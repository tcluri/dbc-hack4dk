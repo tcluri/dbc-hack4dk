{
 "cells": [
  {
   "cell_type": "code",
   "execution_count": 1,
   "metadata": {
    "collapsed": true
   },
   "outputs": [],
   "source": [
    "# Import the required libraries\n",
    "import pandas as pd \n",
    "import json "
   ]
  },
  {
   "cell_type": "code",
   "execution_count": 2,
   "metadata": {},
   "outputs": [],
   "source": [
    "# Parse the json into a list while removing the '\\n' character\n",
    "data = []\n",
    "with open('bibdk-soegetermer.json') as f:\n",
    "    for line in f:\n",
    "        data.append(json.loads(line.rstrip()))"
   ]
  },
  {
   "cell_type": "code",
   "execution_count": 3,
   "metadata": {},
   "outputs": [
    {
     "data": {
      "text/plain": [
       "{'search': 'to ryk og en aflevering',\n",
       " 'session_id': 1,\n",
       " 'time': 1420095600,\n",
       " 'user_id': 0,\n",
       " 'useragent': ''}"
      ]
     },
     "execution_count": 3,
     "metadata": {},
     "output_type": "execute_result"
    }
   ],
   "source": [
    "# Check data\n",
    "data[0]"
   ]
  },
  {
   "cell_type": "code",
   "execution_count": 4,
   "metadata": {},
   "outputs": [],
   "source": [
    "# Import data into a pandas dataframe\n",
    "pandasData = pd.DataFrame(data)"
   ]
  },
  {
   "cell_type": "code",
   "execution_count": 5,
   "metadata": {},
   "outputs": [
    {
     "name": "stdout",
     "output_type": "stream",
     "text": [
      "['search', 'session_id', 'time', 'user_id', 'useragent']\n"
     ]
    }
   ],
   "source": [
    "# Attribute names of the dataset\n",
    "attributeNames = list(pandasData)\n",
    "print(attributeNames)"
   ]
  },
  {
   "cell_type": "markdown",
   "metadata": {},
   "source": [
    "# Bibdk-search\n",
    "\n",
    "## Correlating time spent by a user -- Search word\n",
    "    Developing a suggestion system if another user also types in a similar word/search term\n",
    "    \n",
    "## Most searched for titles -- Only search word\n",
    "### Using stemming to find out what are the most searched for words\n",
    "### Use similarity statistics for searches\n",
    "\n",
    "## Time stamps and search words -- Popularity of titles\n",
    "    Using timestamps of user-agents and correlating them with search words and looking for trends \n",
    "    in the data"
   ]
  }
 ],
 "metadata": {
  "kernelspec": {
   "display_name": "Python 3",
   "language": "python",
   "name": "python3"
  },
  "language_info": {
   "codemirror_mode": {
    "name": "ipython",
    "version": 3
   },
   "file_extension": ".py",
   "mimetype": "text/x-python",
   "name": "python",
   "nbconvert_exporter": "python",
   "pygments_lexer": "ipython3",
   "version": "3.6.2"
  }
 },
 "nbformat": 4,
 "nbformat_minor": 2
}
